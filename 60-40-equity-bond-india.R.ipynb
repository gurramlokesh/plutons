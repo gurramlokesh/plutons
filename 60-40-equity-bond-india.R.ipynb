{
 "cells": [
  {
   "cell_type": "markdown",
   "metadata": {},
   "source": [
    "# The Indian 60/40 equity/bond portfolio"
   ]
  },
  {
   "cell_type": "code",
   "execution_count": null,
   "metadata": {},
   "outputs": [],
   "source": [
    "library(tidyverse)\n",
    "library(ggthemes)\n",
    "library(odbc)\n",
    "library(plutoR)\n",
    "library(quantmod)\n",
    "library(PerformanceAnalytics)\n",
    "\n",
    "options(\"scipen\"=999)\n",
    "options(stringsAsFactors = FALSE)\n",
    "options(repr.plot.width=16, repr.plot.height=8)\n",
    "\n",
    "source(\"config.R\")\n",
    "source(\"goofy/plot.common.R\")\n",
    "source(\"goofy/misc.common.R\")\n",
    "\n",
    "indices <- Indices()"
   ]
  },
  {
   "cell_type": "code",
   "execution_count": null,
   "metadata": {},
   "outputs": [],
   "source": [
    "# what are the begin and end dates that we have bond info for?\n",
    "\n",
    "indices$IndiaGsecTimeSeries() %>%\n",
    "    group_by(NAME) %>%\n",
    "    summarize(ST = min(TIME_STAMP), ET = max(TIME_STAMP)) %>%\n",
    "    print()"
   ]
  },
  {
   "cell_type": "code",
   "execution_count": null,
   "metadata": {},
   "outputs": [],
   "source": [
    "# what are the begin and end dates that we have equity index info for?\n",
    "\n",
    "indicesOfInterest <- c('NIFTY 50 TR', 'NIFTY MIDCAP 100 TR', 'NIFTY MIDCAP 150 TR')\n",
    "\n",
    "indices$NseTimeSeries() %>%\n",
    "    filter(NAME %in% indicesOfInterest) %>%\n",
    "    group_by(NAME) %>%\n",
    "    summarize(ST = min(TIME_STAMP), ET = max(TIME_STAMP)) %>%\n",
    "    print()"
   ]
  },
  {
   "cell_type": "code",
   "execution_count": null,
   "metadata": {},
   "outputs": [],
   "source": [
    "startDate <- as.Date('2004-01-01')\n",
    "endDate <- as.Date('2019-06-30')\n",
    "\n",
    "eqIndex1 <- \"NIFTY 50 TR\" \n",
    "eqIndex2 <- \"NIFTY MIDCAP 100 TR\" # maximum overlap is for MIDCAP 100 TR\n",
    "\n",
    "bndIndex <- '0_5' #gsec. shortest tenure\n",
    "\n",
    "eqDt1 <- indices$NseTimeSeries() %>%\n",
    "    filter(NAME == eqIndex1 & TIME_STAMP >= startDate & TIME_STAMP <= endDate) %>%\n",
    "    select(TIME_STAMP, CLOSE) %>%\n",
    "    collect()\n",
    "\n",
    "eqDt2 <- indices$NseTimeSeries() %>%\n",
    "    filter(NAME == eqIndex2 & TIME_STAMP >= startDate & TIME_STAMP <= endDate) %>%\n",
    "    select(TIME_STAMP, CLOSE) %>%\n",
    "    collect()\n",
    "\n",
    "bndDt <- indices$IndiaGsecTimeSeries() %>%\n",
    "    filter(NAME == bndIndex & TIME_STAMP >= startDate & TIME_STAMP <= endDate) %>%\n",
    "    select(TIME_STAMP, TRI) %>%\n",
    "    collect()\n",
    "\n",
    "eqXts1 <- Common.NormalizeMonthlyDates(monthlyReturn(xts(eqDt1$CLOSE, eqDt1$TIME_STAMP)))\n",
    "eqXts2 <- Common.NormalizeMonthlyDates(monthlyReturn(xts(eqDt2$CLOSE, eqDt2$TIME_STAMP)))\n",
    "bndXts <- Common.NormalizeMonthlyDates(monthlyReturn(xts(bndDt$TRI, bndDt$TIME_STAMP)))\n",
    "\n",
    "port1 <- eqXts1*0.6 + bndXts*0.4\n",
    "port2 <- eqXts2*0.6 + bndXts*0.4"
   ]
  },
  {
   "cell_type": "code",
   "execution_count": null,
   "metadata": {},
   "outputs": [],
   "source": [
    "#plot the different scenarios\n",
    "port2plot <- merge(port1, port2, eqXts1, eqXts2)\n",
    "names(port2plot) <- c(sprintf(\"%s (60%%)\", eqIndex1), sprintf(\"%s (60%%)\", eqIndex2), eqIndex1, eqIndex2)\n",
    "Common.PlotCumReturns(port2plot, \"60/40 Indian equity/bond\", \"total return\")"
   ]
  },
  {
   "cell_type": "markdown",
   "metadata": {},
   "source": [
    "This notebook was created using [pluto](http://pluto.studio). Learn more [here](https://github.com/shyams80/pluto)"
   ]
  }
 ],
 "metadata": {
  "kernelspec": {
   "display_name": "R",
   "language": "R",
   "name": "ir"
  },
  "language_info": {
   "codemirror_mode": "r",
   "file_extension": ".r",
   "mimetype": "text/x-r-source",
   "name": "R",
   "pygments_lexer": "r",
   "version": "3.4.4"
  }
 },
 "nbformat": 4,
 "nbformat_minor": 2
}
